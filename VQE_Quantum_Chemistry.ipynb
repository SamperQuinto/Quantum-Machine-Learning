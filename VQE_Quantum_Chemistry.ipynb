{
 "cells": [
  {
   "attachments": {},
   "cell_type": "markdown",
   "metadata": {},
   "source": [
    "## VQE apply to Quantum Chemistry: Ground Eigenstate of $H_{3}$"
   ]
  },
  {
   "cell_type": "code",
   "execution_count": 1,
   "metadata": {},
   "outputs": [],
   "source": [
    "import pennylane as qml\n",
    "from pennylane import numpy as np\n",
    "from pennylane import qchem"
   ]
  },
  {
   "attachments": {},
   "cell_type": "markdown",
   "metadata": {},
   "source": [
    "### We define the molecule of we are going to calculate the gorundstate, this is $H_{3}$"
   ]
  },
  {
   "cell_type": "code",
   "execution_count": 5,
   "metadata": {},
   "outputs": [],
   "source": [
    "symbols = [\"H\", \"H\", \"H\"]\n",
    "\n",
    "# We specify where th enuclei are located\n",
    "# Database for molecular cooridantes: https://cccbdb.nist.gov/alldata1x.asp\n",
    "cooridnates = np.array([[0.0102, 0.0442, 0.0],\n",
    "                        [0.9867, 1.6303, 0.0],\n",
    "                        [1.8720, -0.0085, 0.0]])"
   ]
  },
  {
   "attachments": {},
   "cell_type": "markdown",
   "metadata": {},
   "source": [
    "### Finding the molecular Hamiltonian"
   ]
  },
  {
   "cell_type": "code",
   "execution_count": 6,
   "metadata": {},
   "outputs": [],
   "source": [
    "# we define the molecular hamiltonian\n",
    "\n",
    "# In VQE is easier to work with two electrons than other number or electrons or a neutral molecule.\n",
    "# For it we set charge = 1\n",
    "hamiltonian, qubits = qchem.molecular_hamiltonian(symbols,\n",
    "                                                  cooridnates,\n",
    "                                                  charge = 1)"
   ]
  },
  {
   "cell_type": "code",
   "execution_count": 7,
   "metadata": {},
   "outputs": [
    {
     "name": "stdout",
     "output_type": "stream",
     "text": [
      "6\n"
     ]
    }
   ],
   "source": [
    "# Let's see how many qubits we need to simulate this molecule\n",
    "\n",
    "print(qubits)"
   ]
  },
  {
   "cell_type": "code",
   "execution_count": 8,
   "metadata": {},
   "outputs": [
    {
     "name": "stdout",
     "output_type": "stream",
     "text": [
      "[1 1 0 0 0 0]\n"
     ]
    }
   ],
   "source": [
    "# We define a non exactly ground state known as Hartree-Fock State,\n",
    "# this will be an initial aproximation to ground state.\n",
    "\n",
    "hf = qchem.hf_state(electrons = 2, orbitals = 6)\n",
    "\n",
    "# This result are going to be printing in Jordan Wegner representation\n",
    "print(hf)"
   ]
  },
  {
   "cell_type": "code",
   "execution_count": 9,
   "metadata": {},
   "outputs": [],
   "source": [
    "num_wires = qubits\n",
    "dev = qml.device(\"default.qubit\", wires = num_wires)"
   ]
  },
  {
   "cell_type": "code",
   "execution_count": 10,
   "metadata": {},
   "outputs": [],
   "source": [
    "# The circuit we are going to use to encode and construct the ansatz\n",
    "\n",
    "@qml.qnode(dev)\n",
    "def exp_energy(state):\n",
    "    qml.BasisState(np.array(state), wires = range(num_wires))\n",
    "    return qml.expval(hamiltonian)"
   ]
  },
  {
   "cell_type": "code",
   "execution_count": 11,
   "metadata": {},
   "outputs": [
    {
     "data": {
      "text/plain": [
       "tensor(-1.24655016, requires_grad=True)"
      ]
     },
     "execution_count": 11,
     "metadata": {},
     "output_type": "execute_result"
    }
   ],
   "source": [
    "exp_energy(hf)"
   ]
  },
  {
   "attachments": {},
   "cell_type": "markdown",
   "metadata": {},
   "source": [
    "### Preparing the trial ground state"
   ]
  },
  {
   "cell_type": "code",
   "execution_count": 12,
   "metadata": {},
   "outputs": [],
   "source": [
    "def ansatz(params):\n",
    "    qml.BasisState(hf, wires = range(num_wires))\n",
    "    qml.DoubleExcitation(params[0], wires = [0,1,2,3])\n",
    "    qml.DoubleExcitation(params[1], wires = [0,1,4,5])"
   ]
  },
  {
   "attachments": {},
   "cell_type": "markdown",
   "metadata": {},
   "source": [
    "### Minimazing the expectation value of the Hamiltonian\n",
    "\n",
    "We use the \\italics{Ritz variational principle}, which leds:\n",
    "\n",
    "$$E_{0} \\leq min \\langle \\phi | \\hat{H} | \\phi \\rangle$$"
   ]
  },
  {
   "cell_type": "code",
   "execution_count": 13,
   "metadata": {},
   "outputs": [],
   "source": [
    "@qml.qnode(dev)\n",
    "def cost_function(params):\n",
    "    ansatz(params)\n",
    "    return qml.expval(hamiltonian)"
   ]
  },
  {
   "cell_type": "code",
   "execution_count": 14,
   "metadata": {},
   "outputs": [
    {
     "data": {
      "text/plain": [
       "tensor(-1.26796721, requires_grad=True)"
      ]
     },
     "execution_count": 14,
     "metadata": {},
     "output_type": "execute_result"
    }
   ],
   "source": [
    "cost_function([0.1, 0.1])"
   ]
  },
  {
   "cell_type": "code",
   "execution_count": 15,
   "metadata": {},
   "outputs": [
    {
     "name": "stdout",
     "output_type": "stream",
     "text": [
      "Step = 0, Energy = -1.26070025 Ha\n",
      "Step = 2, Energy = -1.27115671 Ha\n",
      "Step = 4, Energy = -1.27365804 Ha\n",
      "Step = 6, Energy = -1.27425241 Ha\n",
      "Step = 8, Energy = -1.27439362 Ha\n",
      "Step = 10, Energy = -1.27442718 Ha\n",
      "Step = 12, Energy = -1.27443517 Ha\n",
      "Step = 14, Energy = -1.27443707 Ha\n",
      "Step = 16, Energy = -1.27443752 Ha\n",
      "Step = 18, Energy = -1.27443763 Ha\n"
     ]
    }
   ],
   "source": [
    "opt = qml.GradientDescentOptimizer(stepsize=0.4)\n",
    "theta = np.array([0.0,0.0], requires_grad = True)\n",
    "\n",
    "energy = [cost_function(theta)]\n",
    "angle = [theta]\n",
    "max_iterations = 20\n",
    "\n",
    "for n in range(max_iterations):\n",
    "    theta, prev_energy = opt.step_and_cost(cost_function, theta)\n",
    "    \n",
    "    energy.append(cost_function(theta))\n",
    "    angle.append(theta)\n",
    "    \n",
    "    if n%2 == 0:\n",
    "        print(f\"Step = {n}, Energy = {energy[-1]:.8f} Ha\")"
   ]
  },
  {
   "cell_type": "code",
   "execution_count": 16,
   "metadata": {},
   "outputs": [
    {
     "name": "stdout",
     "output_type": "stream",
     "text": [
      "\n",
      "Final ground energy: -1.27443764 Ha\n",
      "\n",
      "Final angle parameters: 0.19203468 0.19290335\n"
     ]
    }
   ],
   "source": [
    "print(\"\\n\" f\"Final ground energy: {energy[-1]:.8f} Ha\")\n",
    "print(\"\\n\" f\"Final angle parameters: {theta[0]:.8f} {theta[1]:.8f}\")"
   ]
  },
  {
   "cell_type": "code",
   "execution_count": 17,
   "metadata": {},
   "outputs": [],
   "source": [
    "# What the actual groundstate is? \n",
    "\n",
    "@qml.qnode(dev)\n",
    "def ground_state(params):\n",
    "    ansatz(params)\n",
    "    return qml.state()"
   ]
  },
  {
   "cell_type": "code",
   "execution_count": 18,
   "metadata": {},
   "outputs": [
    {
     "data": {
      "text/plain": [
       "tensor([ 0.        +0.j,  0.        +0.j,  0.        +0.j,\n",
       "        -0.09585862+0.j,  0.        +0.j,  0.        +0.j,\n",
       "         0.        +0.j,  0.        +0.j,  0.        +0.j,\n",
       "         0.        +0.j,  0.        +0.j,  0.        +0.j,\n",
       "        -0.09586987+0.j,  0.        +0.j,  0.        +0.j,\n",
       "         0.        +0.j,  0.        +0.j,  0.        +0.j,\n",
       "         0.        +0.j,  0.        +0.j,  0.        +0.j,\n",
       "         0.        +0.j,  0.        +0.j,  0.        +0.j,\n",
       "         0.        +0.j,  0.        +0.j,  0.        +0.j,\n",
       "         0.        +0.j,  0.        +0.j,  0.        +0.j,\n",
       "         0.        +0.j,  0.        +0.j,  0.        +0.j,\n",
       "         0.        +0.j,  0.        +0.j,  0.        +0.j,\n",
       "         0.        +0.j,  0.        +0.j,  0.        +0.j,\n",
       "         0.        +0.j,  0.        +0.j,  0.        +0.j,\n",
       "         0.        +0.j,  0.        +0.j,  0.        +0.j,\n",
       "         0.        +0.j,  0.        +0.j,  0.        +0.j,\n",
       "         0.99076743+0.j,  0.        +0.j,  0.        +0.j,\n",
       "         0.        +0.j,  0.        +0.j,  0.        +0.j,\n",
       "         0.        +0.j,  0.        +0.j,  0.        +0.j,\n",
       "         0.        +0.j,  0.        +0.j,  0.        +0.j,\n",
       "         0.        +0.j,  0.        +0.j,  0.        +0.j,\n",
       "         0.        +0.j], requires_grad=True)"
      ]
     },
     "execution_count": 18,
     "metadata": {},
     "output_type": "execute_result"
    }
   ],
   "source": [
    "ground_state(theta)"
   ]
  },
  {
   "attachments": {},
   "cell_type": "markdown",
   "metadata": {},
   "source": [
    "that state si the following if we look closer:\n",
    "\n",
    "$$| ground state \\rangle = 0.9908|110000\\rangle - 0.096|001100\\rangle - 0.096|000011\\rangle$$"
   ]
  }
 ],
 "metadata": {
  "kernelspec": {
   "display_name": "Python 3",
   "language": "python",
   "name": "python3"
  },
  "language_info": {
   "codemirror_mode": {
    "name": "ipython",
    "version": 3
   },
   "file_extension": ".py",
   "mimetype": "text/x-python",
   "name": "python",
   "nbconvert_exporter": "python",
   "pygments_lexer": "ipython3",
   "version": "3.9.13"
  },
  "orig_nbformat": 4
 },
 "nbformat": 4,
 "nbformat_minor": 2
}
